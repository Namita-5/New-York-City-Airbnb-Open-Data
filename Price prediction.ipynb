{
 "cells": [
  {
   "cell_type": "code",
   "execution_count": null,
   "metadata": {},
   "outputs": [],
   "source": [
    "import pandas as pd\n",
    "import numpy as np\n",
    "import matplotlib.pyplot as plt\n",
    "import seaborn as sns"
   ]
  },
  {
   "cell_type": "code",
   "execution_count": null,
   "metadata": {},
   "outputs": [],
   "source": [
    "# load the data\n",
    "nyc_data = pd.read_csv('AB_NYC_2019.csv')\n",
    "nyc_data.head()"
   ]
  },
  {
   "cell_type": "markdown",
   "metadata": {},
   "source": [
    "# Data Wrangling"
   ]
  },
  {
   "cell_type": "code",
   "execution_count": null,
   "metadata": {},
   "outputs": [],
   "source": [
    "#checking the data\n",
    "nyc_data.info()"
   ]
  },
  {
   "cell_type": "code",
   "execution_count": null,
   "metadata": {},
   "outputs": [],
   "source": [
    "#checking null values\n",
    "nyc_data.isnull().sum().sort_values(ascending=False)"
   ]
  },
  {
   "cell_type": "code",
   "execution_count": null,
   "metadata": {},
   "outputs": [],
   "source": [
    "# converting last_review to datetime\n",
    "# replacing NaN values with 0 \n",
    "nyc_data['last_review']=pd.to_datetime(nyc_data['last_review'])\n",
    "nyc_data.last_review.fillna(max(nyc_data.last_review),inplace=True)\n",
    "nyc_data.reviews_per_month.fillna(0,inplace=True)"
   ]
  },
  {
   "cell_type": "code",
   "execution_count": null,
   "metadata": {},
   "outputs": [],
   "source": [
    "#removing unwanted columns\n",
    "nyc_data.drop(['name','host_name'],axis=1,inplace=True)"
   ]
  },
  {
   "cell_type": "code",
   "execution_count": null,
   "metadata": {},
   "outputs": [],
   "source": [
    "#checking if any null values present now\n",
    "nyc_data.isna().sum().sum()"
   ]
  },
  {
   "cell_type": "markdown",
   "metadata": {},
   "source": [
    "# Exploratory Data Analysis"
   ]
  },
  {
   "cell_type": "markdown",
   "metadata": {},
   "source": [
    "1. Host_id"
   ]
  },
  {
   "cell_type": "code",
   "execution_count": null,
   "metadata": {},
   "outputs": [],
   "source": [
    "#let's see what hosts (IDs) have the most listings on Airbnb platform and taking advantage of this service\n",
    "top_host=nyc_data.host_id.value_counts().head(10)\n",
    "top_host"
   ]
  },
  {
   "cell_type": "code",
   "execution_count": null,
   "metadata": {},
   "outputs": [],
   "source": [
    "#setting figure size for future visualizations\n",
    "sns.set(rc={'figure.figsize':(10,8)})\n",
    "viz_1=top_host.plot(kind='bar',cmap='plasma')\n",
    "viz_1.set_title('Hosts with the most listings in NYC')\n",
    "viz_1.set_ylabel('Count of listings')\n",
    "viz_1.set_xlabel('Host IDs')"
   ]
  },
  {
   "cell_type": "markdown",
   "metadata": {},
   "source": [
    "* Observation:The host with maximum number of listings registered for airbnb in NewYork has 372 listings."
   ]
  },
  {
   "cell_type": "markdown",
   "metadata": {},
   "source": [
    "2. Neighbourhood group"
   ]
  },
  {
   "cell_type": "code",
   "execution_count": null,
   "metadata": {},
   "outputs": [],
   "source": [
    "a=nyc_data.groupby('neighbourhood_group').calculated_host_listings_count.sum()\n",
    "plt.style.use('ggplot')\n",
    "a.plot(kind='bar')"
   ]
  },
  {
   "cell_type": "code",
   "execution_count": null,
   "metadata": {},
   "outputs": [],
   "source": [
    "sns.countplot(x='neighbourhood_group',data=nyc_data)"
   ]
  },
  {
   "cell_type": "markdown",
   "metadata": {},
   "source": [
    "* Obeservations:\n",
    "    a. Manhattan neighbourhood group has highest number of listings in whole New York area.\n",
    "    \n",
    "    b. Number of hosts ownning the listings are highest in Manhattan followed by Brooklyn"
   ]
  },
  {
   "cell_type": "markdown",
   "metadata": {},
   "source": [
    "3. Room type"
   ]
  },
  {
   "cell_type": "code",
   "execution_count": null,
   "metadata": {},
   "outputs": [],
   "source": [
    "sns.countplot(x='room_type',data=nyc_data,edgecolor=sns.color_palette(\"dark\", 3))\n",
    "nyc_data.room_type.value_counts()"
   ]
  },
  {
   "cell_type": "code",
   "execution_count": null,
   "metadata": {},
   "outputs": [],
   "source": [
    "b=nyc_data.room_type.value_counts()/len(nyc_data.room_type)\n",
    "b.plot.pie(autopct='%.2f',fontsize=12,figsize=(8,8))\n",
    "plt.title('Room types availability in AirBnB',fontsize=20)"
   ]
  },
  {
   "cell_type": "code",
   "execution_count": null,
   "metadata": {},
   "outputs": [],
   "source": [
    "nyc_data.groupby(['neighbourhood_group','room_type']).room_type.count().plot.barh(stacked=True)\n",
    "plt.ylabel('Neighbourhood wise room types')\n",
    "plt.xlabel('Number of Rooms')\n",
    "plt.title('Neighbourhood groups Vs Room types availability')"
   ]
  },
  {
   "cell_type": "markdown",
   "metadata": {},
   "source": [
    "* Observation:\n",
    "\n",
    "a. In all the listings of rooms registered in AirBnB more than 50% of listings offer complete houses or apartments and remaining are private rooms. Only 2% of listings offer shared rooms. \n",
    "\n",
    "b. Brooklyn is a zone which has maximum listings offering private rooms while manhattan is an hub of apartment offerings, followed by Brooklyn.\n",
    "\n",
    "c. Bronx, Queen and Staten Island has least number of listings registered and does not offer much of the services."
   ]
  },
  {
   "cell_type": "markdown",
   "metadata": {},
   "source": [
    "# Price Analysis"
   ]
  },
  {
   "cell_type": "markdown",
   "metadata": {},
   "source": [
    "1. Price relation to Room Type"
   ]
  },
  {
   "cell_type": "code",
   "execution_count": null,
   "metadata": {},
   "outputs": [],
   "source": [
    "title = 'Price per Room Type for Properties under $175'\n",
    "data_filtered = nyc_data.loc[nyc_data['price'] < 175]\n",
    "f, ax = plt.subplots(figsize=(8, 6))\n",
    "sns.boxplot(x='room_type', y='price', data=data_filtered, notch=True, showmeans=True,\n",
    "           meanprops={\"marker\":\"s\",\"markerfacecolor\":\"white\", \"markeredgecolor\":\"black\"})\n",
    "plt.title(title)\n",
    "plt.ioff()\n",
    "\n",
    "title = 'Price per Room Type for Properties more than $175'\n",
    "data_filtered = nyc_data.loc[nyc_data['price'] > 175]\n",
    "f, ax = plt.subplots(figsize=(8, 6))\n",
    "sns.boxplot(x='room_type', y='price', data=data_filtered, notch=False, showmeans=True,\n",
    "           meanprops={\"marker\":\"s\",\"markerfacecolor\":\"white\", \"markeredgecolor\":\"black\"})\n",
    "plt.title(title)\n",
    "plt.ioff()\n"
   ]
  },
  {
   "cell_type": "markdown",
   "metadata": {},
   "source": [
    "2. Price relation to the number of review per month\n"
   ]
  },
  {
   "cell_type": "code",
   "execution_count": null,
   "metadata": {},
   "outputs": [],
   "source": [
    "sns.set_palette(\"muted\")\n",
    "x = 'reviews_per_month'\n",
    "y = 'price'\n",
    "\n",
    "title = 'Price relation to number of review per month for Properties under $175'\n",
    "data_filtered = nyc_data.loc[(nyc_data['price'] < 175) & (nyc_data['reviews_per_month'] < 30)]\n",
    "f, ax = plt.subplots(figsize=(8, 6))\n",
    "plt.scatter(x=x, y=y, data=data_filtered)\n",
    "plt.title(title)\n",
    "plt.ioff()\n",
    "\n",
    "title = 'Price relation to number of review per month for Properties more than $175'\n",
    "data_filtered = nyc_data.loc[nyc_data['price'] > 175]\n",
    "f, ax = plt.subplots(figsize=(8, 6))\n",
    "plt.scatter(x=x, y=y, data=data_filtered)\n",
    "plt.title(title)\n",
    "plt.ioff()\n"
   ]
  },
  {
   "cell_type": "markdown",
   "metadata": {},
   "source": [
    "3. Price relation to Neighbourhood Group"
   ]
  },
  {
   "cell_type": "code",
   "execution_count": null,
   "metadata": {},
   "outputs": [],
   "source": [
    "title = 'Median Price per Neighbourhood Group'\n",
    "result = nyc_data.groupby([\"neighbourhood_group\"])['price'].aggregate(np.median).reset_index().sort_values('price')\n",
    "sns.barplot(x='neighbourhood_group', y=\"price\", data=nyc_data, order=result['neighbourhood_group'])\n",
    "plt.title(title)\n",
    "plt.ioff()"
   ]
  },
  {
   "cell_type": "markdown",
   "metadata": {},
   "source": [
    "* Observation: Properties in Manhattan are more expensive"
   ]
  },
  {
   "cell_type": "markdown",
   "metadata": {},
   "source": [
    "4. Price Relation to Minimum Nights"
   ]
  },
  {
   "cell_type": "code",
   "execution_count": null,
   "metadata": {},
   "outputs": [],
   "source": [
    "plt.scatter(x='minimum_nights',y='price',data=nyc_data)"
   ]
  },
  {
   "cell_type": "markdown",
   "metadata": {},
   "source": [
    "* Observation: Minimum number of night stays has no significant impact on prices."
   ]
  },
  {
   "cell_type": "markdown",
   "metadata": {},
   "source": [
    "# Designing price prediction ML model"
   ]
  },
  {
   "cell_type": "code",
   "execution_count": null,
   "metadata": {},
   "outputs": [],
   "source": [
    "# We will make model to only use listings which has price set up. Their are multiple listings with no prices. \n",
    "# We will also use listings which has availability_365>0\n",
    "nyc_data=nyc_data[nyc_data.price>0]\n",
    "nyc_data=nyc_data[nyc_data.availability_365>0]"
   ]
  },
  {
   "cell_type": "code",
   "execution_count": null,
   "metadata": {},
   "outputs": [],
   "source": [
    "# Setting the target variable and independent variable\n",
    "X=['latitude','longitude','minimum_nights','number_of_reviews','availability_365','room_type','neighbourhood_group','neighbourhood']\n",
    "y='price'"
   ]
  },
  {
   "cell_type": "code",
   "execution_count": null,
   "metadata": {},
   "outputs": [],
   "source": [
    "data_X=nyc_data[X]"
   ]
  },
  {
   "cell_type": "code",
   "execution_count": null,
   "metadata": {},
   "outputs": [],
   "source": [
    "data_y=nyc_data[y]"
   ]
  },
  {
   "cell_type": "code",
   "execution_count": null,
   "metadata": {},
   "outputs": [],
   "source": [
    "# encoding the categorical data for making data suitable for machine to learn\n",
    "X=pd.get_dummies(data_X,prefix_sep='_',drop_first=True)"
   ]
  },
  {
   "cell_type": "code",
   "execution_count": null,
   "metadata": {},
   "outputs": [],
   "source": [
    "#Prices are not normally distributed as well as there is alot of noise. Logarithmic conversion of data with huge variance can be normalised by logarithmic algorithm.\n",
    "y=np.log10(data_y)"
   ]
  },
  {
   "cell_type": "code",
   "execution_count": null,
   "metadata": {},
   "outputs": [],
   "source": [
    "from sklearn.model_selection import train_test_split\n",
    "X_train,X_test,y_train,y_test=train_test_split(X,y,test_size=0.25,random_state=1)"
   ]
  },
  {
   "cell_type": "code",
   "execution_count": null,
   "metadata": {},
   "outputs": [],
   "source": [
    "# importing important LinearRegression ML models\n",
    "from sklearn.linear_model import LinearRegression\n",
    "lr=LinearRegression()\n",
    "lr.fit(X_train,y_train)\n",
    "\n",
    "y_pred=lr.predict(X_test)\n"
   ]
  },
  {
   "cell_type": "code",
   "execution_count": null,
   "metadata": {},
   "outputs": [],
   "source": [
    "# Evaluation of model\n",
    "\n",
    "from sklearn.metrics import mean_squared_error\n",
    "from sklearn import metrics\n",
    "from sklearn.metrics import r2_score\n",
    "\n",
    "print('RMSE:', np.round(np.sqrt(metrics.mean_squared_error(y_test, lr.predict(X_test))), 2))\n",
    "print('R2 score train:', np.round(r2_score(y_train, lr.predict(X_train), multioutput='variance_weighted'), 2))\n",
    "print('R2 score test:', np.round(r2_score(y_test, lr.predict(X_test), multioutput='variance_weighted'), 2))\n"
   ]
  },
  {
   "cell_type": "code",
   "execution_count": null,
   "metadata": {},
   "outputs": [],
   "source": [
    "from sklearn.linear_model import BayesianRidge\n",
    "br=BayesianRidge()\n",
    "br.fit(X_train,y_train)\n",
    "y_predict=br.predict(X_test)"
   ]
  },
  {
   "cell_type": "code",
   "execution_count": null,
   "metadata": {},
   "outputs": [],
   "source": [
    "print('RMSE:', np.round(np.sqrt(metrics.mean_squared_error(y_test, lr.predict(X_test))), 2))\n",
    "print('R2 score train:', np.round(r2_score(y_train, lr.predict(X_train), multioutput='variance_weighted'), 2)*100)\n",
    "print('R2 score test:', np.round(r2_score(y_test, lr.predict(X_test), multioutput='variance_weighted'), 2))"
   ]
  },
  {
   "cell_type": "code",
   "execution_count": null,
   "metadata": {},
   "outputs": [],
   "source": [
    "from sklearn.preprocessing import LabelEncoder\n",
    "le = LabelEncoder()                                            # Fit label encoder\n",
    "le.fit(nyc_data['neighbourhood_group'])\n",
    "nyc_data['neighbourhood_group']=le.transform(nyc_data['neighbourhood_group'])    # Transform labels to normalized encoding.\n",
    "\n",
    "le = LabelEncoder()\n",
    "le.fit(nyc_data['neighbourhood'])\n",
    "nyc_data['neighbourhood']=le.transform(nyc_data['neighbourhood'])\n",
    "\n",
    "le =LabelEncoder()\n",
    "le.fit(nyc_data['room_type'])\n",
    "nyc_data['room_type']=le.transform(nyc_data['room_type'])\n",
    "\n",
    "nyc_data.sort_values(by='price',ascending=True,inplace=True)\n",
    "\n",
    "nyc_data.head()"
   ]
  },
  {
   "cell_type": "code",
   "execution_count": null,
   "metadata": {},
   "outputs": [],
   "source": [
    "lm = LinearRegression()\n",
    "\n",
    "X = nyc_data[['neighbourhood_group','neighbourhood','room_type','minimum_nights','number_of_reviews','reviews_per_month','calculated_host_listings_count','availability_365']]\n",
    "y = np.log10(nyc_data['price'])\n",
    "\n",
    "X_train, X_test, y_train, y_test = train_test_split(X, y, test_size=0.2, random_state=101)\n",
    "\n",
    "lm.fit(X_train,y_train)"
   ]
  },
  {
   "cell_type": "code",
   "execution_count": null,
   "metadata": {},
   "outputs": [],
   "source": [
    "from sklearn.metrics import mean_absolute_error\n",
    "y_predicts = lm.predict(X_test)\n",
    "\n",
    "print(\"\"\"\n",
    "        Mean Squared Error: {}\n",
    "        R2 Score: {}\n",
    "        Mean Absolute Error: {}\n",
    "     \"\"\".format(\n",
    "        np.sqrt(metrics.mean_squared_error(y_test, y_predicts)),\n",
    "        r2_score(y_test,y_predicts) * 100,\n",
    "        mean_absolute_error(y_test,y_predicts)\n",
    "        ))\n"
   ]
  }
 ],
 "metadata": {
  "kernelspec": {
   "display_name": "Python 3",
   "language": "python",
   "name": "python3"
  },
  "language_info": {
   "codemirror_mode": {
    "name": "ipython",
    "version": 3
   },
   "file_extension": ".py",
   "mimetype": "text/x-python",
   "name": "python",
   "nbconvert_exporter": "python",
   "pygments_lexer": "ipython3",
   "version": "3.6.5"
  }
 },
 "nbformat": 4,
 "nbformat_minor": 2
}
